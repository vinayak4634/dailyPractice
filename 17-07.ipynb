{
 "cells": [
  {
   "cell_type": "code",
   "execution_count": null,
   "id": "f7c9d37c",
   "metadata": {},
   "outputs": [],
   "source": []
  },
  {
   "cell_type": "code",
   "execution_count": 2,
   "id": "15980985",
   "metadata": {},
   "outputs": [],
   "source": [
    "class Solution:\n",
    "    def fizzBuzz(self, n: int):\n",
    "        listf = []\n",
    "        for i in list(range(1,n+1)):\n",
    "            if i%3==0 and i%5==0:\n",
    "                listf+=[\"FizzBuzz\"]\n",
    "            elif i%3==0:\n",
    "                listf+=[\"Fizz\"]\n",
    "            elif i%5==0:\n",
    "                listf+=[\"Buzz\"]\n",
    "            else: \n",
    "                listf+=[str(i)]\n",
    "        ans = (listf)\n",
    "        return ans"
   ]
  },
  {
   "cell_type": "code",
   "execution_count": 4,
   "id": "d5e64bbb",
   "metadata": {},
   "outputs": [],
   "source": [
    "obj = Solution()"
   ]
  },
  {
   "cell_type": "code",
   "execution_count": 7,
   "id": "395d73ba",
   "metadata": {},
   "outputs": [
    {
     "name": "stdout",
     "output_type": "stream",
     "text": [
      "['1', '2', 'Fizz', '4', 'Buzz', 'Fizz', '7', '8', 'Fizz', 'Buzz', '11', 'Fizz', '13', '14', 'FizzBuzz']\n"
     ]
    }
   ],
   "source": [
    "print(obj.fizzBuzz(15))"
   ]
  },
  {
   "cell_type": "code",
   "execution_count": null,
   "id": "70f4a602",
   "metadata": {},
   "outputs": [],
   "source": []
  },
  {
   "cell_type": "code",
   "execution_count": 12,
   "id": "3aa7b0de",
   "metadata": {},
   "outputs": [],
   "source": [
    "def middle(head):\n",
    "    l = 0\n",
    "    for i in head:\n",
    "        l+=1\n",
    "    if l%2!=0:\n",
    "        return head[((l-1)//2):]\n",
    "    else:\n",
    "        return head[(l//2):]"
   ]
  },
  {
   "cell_type": "code",
   "execution_count": 14,
   "id": "0e8affbe",
   "metadata": {},
   "outputs": [
    {
     "data": {
      "text/plain": [
       "[4, 5, 6]"
      ]
     },
     "execution_count": 14,
     "metadata": {},
     "output_type": "execute_result"
    }
   ],
   "source": [
    "middle([1,2,3,4,5,6])"
   ]
  },
  {
   "cell_type": "code",
   "execution_count": null,
   "id": "c4d20479",
   "metadata": {},
   "outputs": [],
   "source": []
  }
 ],
 "metadata": {
  "kernelspec": {
   "display_name": "Python 3 (ipykernel)",
   "language": "python",
   "name": "python3"
  },
  "language_info": {
   "codemirror_mode": {
    "name": "ipython",
    "version": 3
   },
   "file_extension": ".py",
   "mimetype": "text/x-python",
   "name": "python",
   "nbconvert_exporter": "python",
   "pygments_lexer": "ipython3",
   "version": "3.9.12"
  }
 },
 "nbformat": 4,
 "nbformat_minor": 5
}
