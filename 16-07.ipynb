{
 "cells": [
  {
   "cell_type": "markdown",
   "id": "4ace1b53",
   "metadata": {},
   "source": [
    "# stair problem"
   ]
  },
  {
   "cell_type": "markdown",
   "id": "1c53a944",
   "metadata": {},
   "source": [
    "*\n",
    "**\n",
    "***\n",
    "****"
   ]
  },
  {
   "cell_type": "code",
   "execution_count": null,
   "id": "36875471",
   "metadata": {},
   "outputs": [],
   "source": []
  },
  {
   "cell_type": "markdown",
   "id": "e0da6899",
   "metadata": {},
   "source": [
    "# sum of digits"
   ]
  },
  {
   "cell_type": "code",
   "execution_count": null,
   "id": "d459ffe1",
   "metadata": {},
   "outputs": [],
   "source": []
  },
  {
   "cell_type": "code",
   "execution_count": null,
   "id": "09eabd06",
   "metadata": {},
   "outputs": [],
   "source": []
  },
  {
   "cell_type": "markdown",
   "id": "24d6ed73",
   "metadata": {},
   "source": [
    "1 2 3 4\n",
    "1 2 3 \n",
    "1 2 \n",
    "1"
   ]
  },
  {
   "cell_type": "code",
   "execution_count": null,
   "id": "530e26d9",
   "metadata": {},
   "outputs": [],
   "source": []
  },
  {
   "cell_type": "code",
   "execution_count": null,
   "id": "d5d61933",
   "metadata": {},
   "outputs": [],
   "source": []
  },
  {
   "cell_type": "markdown",
   "id": "e8481b3f",
   "metadata": {},
   "source": [
    "# random game"
   ]
  },
  {
   "cell_type": "code",
   "execution_count": null,
   "id": "545af8b8",
   "metadata": {},
   "outputs": [],
   "source": []
  },
  {
   "cell_type": "code",
   "execution_count": null,
   "id": "fcdb215e",
   "metadata": {},
   "outputs": [],
   "source": []
  },
  {
   "cell_type": "markdown",
   "id": "c8fdcc36",
   "metadata": {},
   "source": [
    "# check prime"
   ]
  },
  {
   "cell_type": "code",
   "execution_count": null,
   "id": "c26fad73",
   "metadata": {},
   "outputs": [],
   "source": []
  },
  {
   "cell_type": "code",
   "execution_count": null,
   "id": "2dd56a92",
   "metadata": {},
   "outputs": [],
   "source": []
  },
  {
   "cell_type": "markdown",
   "id": "2cb778a8",
   "metadata": {},
   "source": [
    "# swap two numbers"
   ]
  },
  {
   "cell_type": "code",
   "execution_count": null,
   "id": "88987f08",
   "metadata": {},
   "outputs": [],
   "source": []
  },
  {
   "cell_type": "markdown",
   "id": "fc59204e",
   "metadata": {},
   "source": [
    "# check if number is present in list"
   ]
  },
  {
   "cell_type": "code",
   "execution_count": null,
   "id": "3d7dcd43",
   "metadata": {},
   "outputs": [],
   "source": []
  },
  {
   "cell_type": "code",
   "execution_count": null,
   "id": "922b2482",
   "metadata": {},
   "outputs": [],
   "source": []
  },
  {
   "cell_type": "markdown",
   "id": "ab44122f",
   "metadata": {},
   "source": [
    "# linear search"
   ]
  },
  {
   "cell_type": "code",
   "execution_count": null,
   "id": "90469428",
   "metadata": {},
   "outputs": [],
   "source": []
  },
  {
   "cell_type": "code",
   "execution_count": null,
   "id": "c076ae83",
   "metadata": {},
   "outputs": [],
   "source": []
  },
  {
   "cell_type": "markdown",
   "id": "a2972e19",
   "metadata": {},
   "source": [
    "# reading list input"
   ]
  },
  {
   "cell_type": "code",
   "execution_count": null,
   "id": "5a49d850",
   "metadata": {},
   "outputs": [],
   "source": []
  },
  {
   "cell_type": "code",
   "execution_count": null,
   "id": "98a1ef03",
   "metadata": {},
   "outputs": [],
   "source": []
  },
  {
   "cell_type": "code",
   "execution_count": null,
   "id": "640cf3f5",
   "metadata": {},
   "outputs": [],
   "source": []
  },
  {
   "cell_type": "markdown",
   "id": "77fd4573",
   "metadata": {},
   "source": [
    "# reverse the list"
   ]
  },
  {
   "cell_type": "code",
   "execution_count": null,
   "id": "e627f3dd",
   "metadata": {},
   "outputs": [],
   "source": []
  },
  {
   "cell_type": "code",
   "execution_count": null,
   "id": "cbcba0fa",
   "metadata": {},
   "outputs": [],
   "source": []
  },
  {
   "cell_type": "code",
   "execution_count": null,
   "id": "af65934f",
   "metadata": {},
   "outputs": [],
   "source": []
  },
  {
   "cell_type": "code",
   "execution_count": null,
   "id": "5319250d",
   "metadata": {},
   "outputs": [],
   "source": []
  }
 ],
 "metadata": {
  "kernelspec": {
   "display_name": "Python 3 (ipykernel)",
   "language": "python",
   "name": "python3"
  },
  "language_info": {
   "codemirror_mode": {
    "name": "ipython",
    "version": 3
   },
   "file_extension": ".py",
   "mimetype": "text/x-python",
   "name": "python",
   "nbconvert_exporter": "python",
   "pygments_lexer": "ipython3",
   "version": "3.9.12"
  }
 },
 "nbformat": 4,
 "nbformat_minor": 5
}
