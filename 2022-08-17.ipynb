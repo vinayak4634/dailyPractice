{
 "cells": [
  {
   "cell_type": "raw",
   "id": "eb5e62bb",
   "metadata": {},
   "source": [
    "1. Write a Python program to calculate the length of a string."
   ]
  },
  {
   "cell_type": "code",
   "execution_count": 1,
   "id": "5f8f662b",
   "metadata": {},
   "outputs": [
    {
     "name": "stdout",
     "output_type": "stream",
     "text": [
      "Enter the string: vinayak\n"
     ]
    },
    {
     "data": {
      "text/plain": [
       "7"
      ]
     },
     "execution_count": 1,
     "metadata": {},
     "output_type": "execute_result"
    }
   ],
   "source": [
    "string = input('Enter the string: ')\n",
    "length = 0\n",
    "for i in  string:\n",
    "    length+=1\n",
    "length"
   ]
  },
  {
   "cell_type": "code",
   "execution_count": 3,
   "id": "fd4d2677",
   "metadata": {},
   "outputs": [
    {
     "name": "stdout",
     "output_type": "stream",
     "text": [
      "Enter the string: virat\n"
     ]
    },
    {
     "data": {
      "text/plain": [
       "5"
      ]
     },
     "execution_count": 3,
     "metadata": {},
     "output_type": "execute_result"
    }
   ],
   "source": [
    "def length(string):\n",
    "    res = 0\n",
    "    for i in string:\n",
    "        res+=1\n",
    "    return res\n",
    "\n",
    "string = input('Enter the string: ')\n",
    "length(string)"
   ]
  },
  {
   "cell_type": "code",
   "execution_count": 4,
   "id": "5cee3515",
   "metadata": {},
   "outputs": [
    {
     "data": {
      "text/plain": [
       "5"
      ]
     },
     "execution_count": 4,
     "metadata": {},
     "output_type": "execute_result"
    }
   ],
   "source": [
    "len('virat')"
   ]
  },
  {
   "cell_type": "raw",
   "id": "ffcb9e51",
   "metadata": {},
   "source": [
    "2. Write a Python program to count the number of characters (character frequency) in a string.\n",
    "Sample String : google.com'\n",
    "Expected Result : {'g': 2, 'o': 3, 'l': 1, 'e': 1, '.': 1, 'c': 1, 'm': 1}"
   ]
  },
  {
   "cell_type": "code",
   "execution_count": 7,
   "id": "0df7bc9f",
   "metadata": {},
   "outputs": [
    {
     "data": {
      "text/plain": [
       "{'g': 2, 'o': 3, 'l': 1, 'e': 1, '.': 1, 'c': 1, 'm': 1}"
      ]
     },
     "execution_count": 7,
     "metadata": {},
     "output_type": "execute_result"
    }
   ],
   "source": [
    "string = 'google.com'\n",
    "def frequency(string):\n",
    "    d = {}\n",
    "    for i in string:\n",
    "        if i in d:\n",
    "            d[i]+=1\n",
    "        else:\n",
    "            d[i]=1\n",
    "    return d\n",
    "\n",
    "frequency(string)"
   ]
  },
  {
   "cell_type": "code",
   "execution_count": null,
   "id": "523defae",
   "metadata": {},
   "outputs": [],
   "source": []
  },
  {
   "cell_type": "raw",
   "id": "8f035500",
   "metadata": {},
   "source": [
    "3. Write a Python program to get a string made of the first 2 and the last 2 chars from a given a string. \n",
    "If the string length is less than 2, return instead of the empty string.\n",
    "Sample String : 'w3resource'\n",
    "Expected Result : 'w3ce'\n",
    "Sample String : 'w3'\n",
    "Expected Result : 'w3w3'\n",
    "Sample String : ' w'\n",
    "Expected Result : Empty String\n"
   ]
  },
  {
   "cell_type": "code",
   "execution_count": 21,
   "id": "182dabcb",
   "metadata": {},
   "outputs": [],
   "source": [
    "\n",
    "def part(string):\n",
    "    if len(string)>=2:\n",
    "        return string[:2]+string[-2:]\n",
    "    else:\n",
    "        return 'Empty string'\n"
   ]
  },
  {
   "cell_type": "code",
   "execution_count": 22,
   "id": "df544592",
   "metadata": {},
   "outputs": [
    {
     "data": {
      "text/plain": [
       "'w3ce'"
      ]
     },
     "execution_count": 22,
     "metadata": {},
     "output_type": "execute_result"
    }
   ],
   "source": [
    "string = 'w3resource'\n",
    "part(string)"
   ]
  },
  {
   "cell_type": "code",
   "execution_count": 23,
   "id": "5b6ba034",
   "metadata": {},
   "outputs": [
    {
     "data": {
      "text/plain": [
       "'w3w3'"
      ]
     },
     "execution_count": 23,
     "metadata": {},
     "output_type": "execute_result"
    }
   ],
   "source": [
    "string = 'w3'\n",
    "part(string)"
   ]
  },
  {
   "cell_type": "code",
   "execution_count": 24,
   "id": "31542e8e",
   "metadata": {},
   "outputs": [
    {
     "data": {
      "text/plain": [
       "'Empty string'"
      ]
     },
     "execution_count": 24,
     "metadata": {},
     "output_type": "execute_result"
    }
   ],
   "source": [
    "string = 'w'\n",
    "part(string)"
   ]
  },
  {
   "cell_type": "raw",
   "id": "79740fe5",
   "metadata": {},
   "source": []
  },
  {
   "cell_type": "raw",
   "id": "47eb0c6b",
   "metadata": {},
   "source": [
    "4. Write a Python program to get a string from a given string where all occurrences of its first char \n",
    "have been changed to '$', except the first char itself.\n",
    "Sample String : 'restart'\n",
    "Expected Result : 'resta$t'\n"
   ]
  },
  {
   "cell_type": "raw",
   "id": "b21f2907",
   "metadata": {},
   "source": [
    "main point is that u have to create the new string and then add the character one by one such that if specific charatcter occurs replace it with the new one otherwise add as it was."
   ]
  },
  {
   "cell_type": "code",
   "execution_count": 48,
   "id": "aa8f860e",
   "metadata": {},
   "outputs": [
    {
     "data": {
      "text/plain": [
       "'resta$t'"
      ]
     },
     "execution_count": 48,
     "metadata": {},
     "output_type": "execute_result"
    }
   ],
   "source": [
    "string = 'restart'\n",
    "string_new = string[0]\n",
    "for i in string[1:]:\n",
    "    if i==string[0]:\n",
    "        string_new+='$'\n",
    "    else:\n",
    "        string_new+=i\n",
    "string_new"
   ]
  },
  {
   "cell_type": "code",
   "execution_count": 49,
   "id": "059777bd",
   "metadata": {},
   "outputs": [
    {
     "data": {
      "text/plain": [
       "'resta$t'"
      ]
     },
     "execution_count": 49,
     "metadata": {},
     "output_type": "execute_result"
    }
   ],
   "source": [
    "string = 'restart'\n",
    "string[0]+string[1:].replace('r','$')"
   ]
  },
  {
   "cell_type": "code",
   "execution_count": 50,
   "id": "628b5d0a",
   "metadata": {},
   "outputs": [
    {
     "data": {
      "text/plain": [
       "'resta$t$esta$t'"
      ]
     },
     "execution_count": 50,
     "metadata": {},
     "output_type": "execute_result"
    }
   ],
   "source": [
    "string = 'restartrestart'\n",
    "string[0]+string[1:].replace('r','$')"
   ]
  },
  {
   "cell_type": "code",
   "execution_count": 51,
   "id": "bbacfe5d",
   "metadata": {},
   "outputs": [
    {
     "data": {
      "text/plain": [
       "'resta$t$esta$t'"
      ]
     },
     "execution_count": 51,
     "metadata": {},
     "output_type": "execute_result"
    }
   ],
   "source": [
    "string = 'restartrestart'\n",
    "string_new = string[0]\n",
    "for i in string[1:]:\n",
    "    if i==string[0]:\n",
    "        string_new+='$'\n",
    "    else:\n",
    "        string_new+=i\n",
    "string_new"
   ]
  },
  {
   "cell_type": "raw",
   "id": "b9aa1ca0",
   "metadata": {},
   "source": [
    "5. Write a Python program to get a single string from two given strings, separated by a space and \n",
    "swap the first two characters of each string.\n",
    "Sample String : 'abc', 'xyz'\n",
    "Expected Result : 'xyc abz'"
   ]
  },
  {
   "cell_type": "code",
   "execution_count": 54,
   "id": "b28d8490",
   "metadata": {},
   "outputs": [
    {
     "data": {
      "text/plain": [
       "'xyz abc'"
      ]
     },
     "execution_count": 54,
     "metadata": {},
     "output_type": "execute_result"
    }
   ],
   "source": [
    "a,b = 'abc', 'xyz'\n",
    "b+' '+a"
   ]
  },
  {
   "cell_type": "code",
   "execution_count": null,
   "id": "d16d489a",
   "metadata": {},
   "outputs": [],
   "source": []
  }
 ],
 "metadata": {
  "kernelspec": {
   "display_name": "Python 3 (ipykernel)",
   "language": "python",
   "name": "python3"
  },
  "language_info": {
   "codemirror_mode": {
    "name": "ipython",
    "version": 3
   },
   "file_extension": ".py",
   "mimetype": "text/x-python",
   "name": "python",
   "nbconvert_exporter": "python",
   "pygments_lexer": "ipython3",
   "version": "3.9.12"
  }
 },
 "nbformat": 4,
 "nbformat_minor": 5
}
